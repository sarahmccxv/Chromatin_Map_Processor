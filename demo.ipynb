{
 "cells": [
  {
   "cell_type": "code",
   "execution_count": 24,
   "id": "80a35136-23c4-4124-a62e-8639623b9d9a",
   "metadata": {},
   "outputs": [],
   "source": [
    "from hicmatrix import HiCMatrix as hm\n",
    "import pandas as pd\n",
    "import numpy as np\n",
    "import math\n",
    "import scipy.stats as stats\n",
    "import seaborn as sns\n",
    "import matplotlib.pyplot as plt\n",
    "import chromatin_map_processor as cmp"
   ]
  },
  {
   "cell_type": "code",
   "execution_count": 25,
   "id": "a0182a8c-fe01-4b49-92ee-68d166fbfce7",
   "metadata": {},
   "outputs": [],
   "source": [
    "file_path = \"demo_data/500kbp_raw_human_trans_aggregate.h5\"\n",
    "exp_genes = set(pd.read_csv('demo_data/kidney_monocyte_markers.txt', sep='\\t', header=None)[0])\n",
    "control_genes = set(pd.read_csv('demo_data/lung_epithelial_markers.txt', sep='\\t', header=None)[0][100:300])"
   ]
  },
  {
   "cell_type": "code",
   "execution_count": 26,
   "id": "9b05f19e-a0e9-489d-843c-e098eea90d45",
   "metadata": {},
   "outputs": [
    {
     "name": "stdout",
     "output_type": "stream",
     "text": [
      "Data not available for  111  genes\n"
     ]
    },
    {
     "data": {
      "text/html": [
       "<div>\n",
       "<style scoped>\n",
       "    .dataframe tbody tr th:only-of-type {\n",
       "        vertical-align: middle;\n",
       "    }\n",
       "\n",
       "    .dataframe tbody tr th {\n",
       "        vertical-align: top;\n",
       "    }\n",
       "\n",
       "    .dataframe thead th {\n",
       "        text-align: right;\n",
       "    }\n",
       "</style>\n",
       "<table border=\"1\" class=\"dataframe\">\n",
       "  <thead>\n",
       "    <tr style=\"text-align: right;\">\n",
       "      <th></th>\n",
       "      <th>gene</th>\n",
       "      <th>number of trans contacts</th>\n",
       "    </tr>\n",
       "  </thead>\n",
       "  <tbody>\n",
       "    <tr>\n",
       "      <th>0</th>\n",
       "      <td>ENSG00000112799</td>\n",
       "      <td>20703991</td>\n",
       "    </tr>\n",
       "    <tr>\n",
       "      <th>1</th>\n",
       "      <td>ENSG00000086730</td>\n",
       "      <td>28283338</td>\n",
       "    </tr>\n",
       "    <tr>\n",
       "      <th>2</th>\n",
       "      <td>ENSG00000087152</td>\n",
       "      <td>28647684</td>\n",
       "    </tr>\n",
       "    <tr>\n",
       "      <th>3</th>\n",
       "      <td>ENSG00000085265</td>\n",
       "      <td>22565378</td>\n",
       "    </tr>\n",
       "    <tr>\n",
       "      <th>4</th>\n",
       "      <td>ENSG00000111229</td>\n",
       "      <td>26236296</td>\n",
       "    </tr>\n",
       "    <tr>\n",
       "      <th>...</th>\n",
       "      <td>...</td>\n",
       "      <td>...</td>\n",
       "    </tr>\n",
       "    <tr>\n",
       "      <th>684</th>\n",
       "      <td>ENSG00000171988</td>\n",
       "      <td>39086514</td>\n",
       "    </tr>\n",
       "    <tr>\n",
       "      <th>685</th>\n",
       "      <td>ENSG00000110713</td>\n",
       "      <td>25605440</td>\n",
       "    </tr>\n",
       "    <tr>\n",
       "      <th>686</th>\n",
       "      <td>ENSG00000028277</td>\n",
       "      <td>26939599</td>\n",
       "    </tr>\n",
       "    <tr>\n",
       "      <th>687</th>\n",
       "      <td>ENSG00000103381</td>\n",
       "      <td>24527299</td>\n",
       "    </tr>\n",
       "    <tr>\n",
       "      <th>688</th>\n",
       "      <td>ENSG00000070961</td>\n",
       "      <td>17940831</td>\n",
       "    </tr>\n",
       "  </tbody>\n",
       "</table>\n",
       "<p>689 rows × 2 columns</p>\n",
       "</div>"
      ],
      "text/plain": [
       "                gene  number of trans contacts\n",
       "0    ENSG00000112799                  20703991\n",
       "1    ENSG00000086730                  28283338\n",
       "2    ENSG00000087152                  28647684\n",
       "3    ENSG00000085265                  22565378\n",
       "4    ENSG00000111229                  26236296\n",
       "..               ...                       ...\n",
       "684  ENSG00000171988                  39086514\n",
       "685  ENSG00000110713                  25605440\n",
       "686  ENSG00000028277                  26939599\n",
       "687  ENSG00000103381                  24527299\n",
       "688  ENSG00000070961                  17940831\n",
       "\n",
       "[689 rows x 2 columns]"
      ]
     },
     "execution_count": 26,
     "metadata": {},
     "output_type": "execute_result"
    }
   ],
   "source": [
    "cmp.get_gene_contacts_data(file_path, exp_genes)"
   ]
  },
  {
   "cell_type": "code",
   "execution_count": 27,
   "id": "dd9edcc1-04a8-4a8d-a936-a6b86573ea7f",
   "metadata": {},
   "outputs": [
    {
     "name": "stdout",
     "output_type": "stream",
     "text": [
      "Data not available for  19  genes\n"
     ]
    },
    {
     "data": {
      "text/html": [
       "<div>\n",
       "<style scoped>\n",
       "    .dataframe tbody tr th:only-of-type {\n",
       "        vertical-align: middle;\n",
       "    }\n",
       "\n",
       "    .dataframe tbody tr th {\n",
       "        vertical-align: top;\n",
       "    }\n",
       "\n",
       "    .dataframe thead th {\n",
       "        text-align: right;\n",
       "    }\n",
       "</style>\n",
       "<table border=\"1\" class=\"dataframe\">\n",
       "  <thead>\n",
       "    <tr style=\"text-align: right;\">\n",
       "      <th></th>\n",
       "      <th>gene</th>\n",
       "      <th>number of trans contacts</th>\n",
       "    </tr>\n",
       "  </thead>\n",
       "  <tbody>\n",
       "    <tr>\n",
       "      <th>0</th>\n",
       "      <td>ENSG00000111860</td>\n",
       "      <td>31948232</td>\n",
       "    </tr>\n",
       "    <tr>\n",
       "      <th>1</th>\n",
       "      <td>ENSG00000116761</td>\n",
       "      <td>16904939</td>\n",
       "    </tr>\n",
       "    <tr>\n",
       "      <th>2</th>\n",
       "      <td>ENSG00000164305</td>\n",
       "      <td>21992428</td>\n",
       "    </tr>\n",
       "    <tr>\n",
       "      <th>3</th>\n",
       "      <td>ENSG00000138380</td>\n",
       "      <td>18771897</td>\n",
       "    </tr>\n",
       "    <tr>\n",
       "      <th>4</th>\n",
       "      <td>ENSG00000139624</td>\n",
       "      <td>27490218</td>\n",
       "    </tr>\n",
       "    <tr>\n",
       "      <th>...</th>\n",
       "      <td>...</td>\n",
       "      <td>...</td>\n",
       "    </tr>\n",
       "    <tr>\n",
       "      <th>176</th>\n",
       "      <td>ENSG00000227695</td>\n",
       "      <td>24749675</td>\n",
       "    </tr>\n",
       "    <tr>\n",
       "      <th>177</th>\n",
       "      <td>ENSG00000128536</td>\n",
       "      <td>43622803</td>\n",
       "    </tr>\n",
       "    <tr>\n",
       "      <th>178</th>\n",
       "      <td>ENSG00000135164</td>\n",
       "      <td>17316657</td>\n",
       "    </tr>\n",
       "    <tr>\n",
       "      <th>179</th>\n",
       "      <td>ENSG00000089091</td>\n",
       "      <td>24487497</td>\n",
       "    </tr>\n",
       "    <tr>\n",
       "      <th>180</th>\n",
       "      <td>ENSG00000015133</td>\n",
       "      <td>25180997</td>\n",
       "    </tr>\n",
       "  </tbody>\n",
       "</table>\n",
       "<p>181 rows × 2 columns</p>\n",
       "</div>"
      ],
      "text/plain": [
       "                gene  number of trans contacts\n",
       "0    ENSG00000111860                  31948232\n",
       "1    ENSG00000116761                  16904939\n",
       "2    ENSG00000164305                  21992428\n",
       "3    ENSG00000138380                  18771897\n",
       "4    ENSG00000139624                  27490218\n",
       "..               ...                       ...\n",
       "176  ENSG00000227695                  24749675\n",
       "177  ENSG00000128536                  43622803\n",
       "178  ENSG00000135164                  17316657\n",
       "179  ENSG00000089091                  24487497\n",
       "180  ENSG00000015133                  25180997\n",
       "\n",
       "[181 rows x 2 columns]"
      ]
     },
     "execution_count": 27,
     "metadata": {},
     "output_type": "execute_result"
    }
   ],
   "source": [
    "cmp.get_gene_contacts_data(file_path, control_genes)"
   ]
  },
  {
   "cell_type": "code",
   "execution_count": 28,
   "id": "100c4275-d071-4bd7-be82-fa22205e4119",
   "metadata": {},
   "outputs": [
    {
     "name": "stdout",
     "output_type": "stream",
     "text": [
      "Data not available for  111  genes\n",
      "Data not available for  19  genes\n"
     ]
    },
    {
     "data": {
      "text/plain": [
       "(-1.7337298188930956, 0.08332111492703571)"
      ]
     },
     "execution_count": 28,
     "metadata": {},
     "output_type": "execute_result"
    }
   ],
   "source": [
    "cmp.stat_significance(file_path, exp_genes, control_genes)"
   ]
  },
  {
   "cell_type": "code",
   "execution_count": 29,
   "id": "4ba7e29f-77b9-4add-8b82-afa8306461ed",
   "metadata": {},
   "outputs": [
    {
     "name": "stdout",
     "output_type": "stream",
     "text": [
      "Data not available for  111  genes\n",
      "Data not available for  19  genes\n",
      "Data not available for  111  genes\n",
      "Data not available for  19  genes\n"
     ]
    },
    {
     "data": {
      "image/png": "[encoded data removed]",
      "text/plain": [
       "<Figure size 640x480 with 1 Axes>"
      ]
     },
     "metadata": {},
     "output_type": "display_data"
    },
    {
     "name": "stdout",
     "output_type": "stream",
     "text": [
      "p = 8.33e-02\n"
     ]
    }
   ],
   "source": [
    "cmp.display_diagram(file_path, exp_genes, control_genes)"
   ]
  }
 ],
 "metadata": {
  "kernelspec": {
   "display_name": "Python 3 (ipykernel)",
   "language": "python",
   "name": "python3"
  },
  "language_info": {
   "codemirror_mode": {
    "name": "ipython",
    "version": 3
   },
   "file_extension": ".py",
   "mimetype": "text/x-python",
   "name": "python",
   "nbconvert_exporter": "python",
   "pygments_lexer": "ipython3",
   "version": "3.11.7"
  }
 },
 "nbformat": 4,
 "nbformat_minor": 5
}
