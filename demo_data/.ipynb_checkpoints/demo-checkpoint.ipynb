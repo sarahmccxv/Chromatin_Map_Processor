{
 "cells": [
  {
   "cell_type": "code",
   "execution_count": 19,
   "id": "80a35136-23c4-4124-a62e-8639623b9d9a",
   "metadata": {},
   "outputs": [],
   "source": [
    "from hicmatrix import HiCMatrix as hm\n",
    "import pandas as pd\n",
    "import numpy as np\n",
    "import math\n",
    "import scipy.stats as stats\n",
    "import seaborn as sns\n",
    "import matplotlib.pyplot as plt\n",
    "import chromatin_map_processor as cmp"
   ]
  },
  {
   "cell_type": "code",
   "execution_count": 21,
   "id": "a0182a8c-fe01-4b49-92ee-68d166fbfce7",
   "metadata": {},
   "outputs": [
    {
     "ename": "FileNotFoundError",
     "evalue": "``/Users/sarahchoi/Library/CloudStorage/OneDrive-UniversityofToronto/Code/untitled folder/demo/500kbp_raw_human_trans_aggregate.h5`` does not exist",
     "output_type": "error",
     "traceback": [
      "\u001b[0;31m---------------------------------------------------------------------------\u001b[0m",
      "\u001b[0;31mFileNotFoundError\u001b[0m                         Traceback (most recent call last)",
      "Cell \u001b[0;32mIn[21], line 3\u001b[0m\n\u001b[1;32m      1\u001b[0m file_path \u001b[38;5;241m=\u001b[39m \u001b[38;5;124m\"\u001b[39m\u001b[38;5;124m500kbp_raw_human_trans_aggregate.h5\u001b[39m\u001b[38;5;124m\"\u001b[39m\n\u001b[1;32m      2\u001b[0m genes \u001b[38;5;241m=\u001b[39m \u001b[38;5;28mset\u001b[39m(pd\u001b[38;5;241m.\u001b[39mread_csv(\u001b[38;5;124m'\u001b[39m\u001b[38;5;124mautism_genes.txt\u001b[39m\u001b[38;5;124m'\u001b[39m, sep\u001b[38;5;241m=\u001b[39m\u001b[38;5;124m'\u001b[39m\u001b[38;5;130;01m\\t\u001b[39;00m\u001b[38;5;124m'\u001b[39m, header\u001b[38;5;241m=\u001b[39m\u001b[38;5;28;01mNone\u001b[39;00m)[\u001b[38;5;241m0\u001b[39m])\n\u001b[0;32m----> 3\u001b[0m df \u001b[38;5;241m=\u001b[39m cmp\u001b[38;5;241m.\u001b[39mget_gene_contacts_data(file_path, genes)\n\u001b[1;32m      4\u001b[0m exp_genes \u001b[38;5;241m=\u001b[39m \u001b[38;5;28mset\u001b[39m(pd\u001b[38;5;241m.\u001b[39mread_csv(\u001b[38;5;124m'\u001b[39m\u001b[38;5;124mautism_genes.txt\u001b[39m\u001b[38;5;124m'\u001b[39m, sep\u001b[38;5;241m=\u001b[39m\u001b[38;5;124m'\u001b[39m\u001b[38;5;130;01m\\t\u001b[39;00m\u001b[38;5;124m'\u001b[39m, header\u001b[38;5;241m=\u001b[39m\u001b[38;5;28;01mNone\u001b[39;00m)[\u001b[38;5;241m0\u001b[39m])\n\u001b[1;32m      5\u001b[0m control_genes \u001b[38;5;241m=\u001b[39m \u001b[38;5;28mset\u001b[39m(pd\u001b[38;5;241m.\u001b[39mread_csv(\u001b[38;5;124m'\u001b[39m\u001b[38;5;124mautism_genes.txt\u001b[39m\u001b[38;5;124m'\u001b[39m, sep\u001b[38;5;241m=\u001b[39m\u001b[38;5;124m'\u001b[39m\u001b[38;5;130;01m\\t\u001b[39;00m\u001b[38;5;124m'\u001b[39m, header\u001b[38;5;241m=\u001b[39m\u001b[38;5;28;01mNone\u001b[39;00m)[\u001b[38;5;241m0\u001b[39m][\u001b[38;5;241m100\u001b[39m:\u001b[38;5;241m300\u001b[39m])\n",
      "File \u001b[0;32m~/Library/CloudStorage/OneDrive-UniversityofToronto/Code/untitled folder/demo/chromatin_map_processor.py:56\u001b[0m, in \u001b[0;36mget_gene_contacts_data\u001b[0;34m(file_path, genes)\u001b[0m\n",
      "File \u001b[0;32m~/Library/CloudStorage/OneDrive-UniversityofToronto/Code/untitled folder/demo/chromatin_map_processor.py:13\u001b[0m, in \u001b[0;36mdf_builder\u001b[0;34m(file_path)\u001b[0m\n",
      "File \u001b[0;32m~/anaconda3/envs/hiexplorer_env/lib/python3.11/site-packages/hicmatrix/HiCMatrix.py:54\u001b[0m, in \u001b[0;36mhiCMatrix.__init__\u001b[0;34m(self, pMatrixFile, pChrnameList, pDistance, pNoIntervalTree, pUpperTriangleOnly, pMatrixFormat, pRestoreMaskedBins, pLoadMatrixOnly)\u001b[0m\n\u001b[1;32m     52\u001b[0m \u001b[38;5;28mself\u001b[39m\u001b[38;5;241m.\u001b[39mmatrixFileHandler \u001b[38;5;241m=\u001b[39m MatrixFileHandler(pFileType\u001b[38;5;241m=\u001b[39mfileType, pMatrixFile\u001b[38;5;241m=\u001b[39mpMatrixFile, pChrnameList\u001b[38;5;241m=\u001b[39mpChrnameList, pDistance\u001b[38;5;241m=\u001b[39mpDistance, pMatrixFormat\u001b[38;5;241m=\u001b[39mpMatrixFormat, pLoadMatrixOnly\u001b[38;5;241m=\u001b[39mpLoadMatrixOnly)\n\u001b[1;32m     53\u001b[0m log\u001b[38;5;241m.\u001b[39mdebug(\u001b[38;5;124m'\u001b[39m\u001b[38;5;124minit time: \u001b[39m\u001b[38;5;132;01m%s\u001b[39;00m\u001b[38;5;124m'\u001b[39m, time\u001b[38;5;241m.\u001b[39mtime() \u001b[38;5;241m-\u001b[39m start_time)\n\u001b[0;32m---> 54\u001b[0m matrixFileHandler_load \u001b[38;5;241m=\u001b[39m \u001b[38;5;28mself\u001b[39m\u001b[38;5;241m.\u001b[39mmatrixFileHandler\u001b[38;5;241m.\u001b[39mload()\n\u001b[1;32m     55\u001b[0m \u001b[38;5;66;03m# check if there was any exception thrown in the load function\u001b[39;00m\n\u001b[1;32m     56\u001b[0m \u001b[38;5;28;01mif\u001b[39;00m \u001b[38;5;28mlen\u001b[39m(matrixFileHandler_load) \u001b[38;5;241m==\u001b[39m \u001b[38;5;241m2\u001b[39m:\n",
      "File \u001b[0;32m~/anaconda3/envs/hiexplorer_env/lib/python3.11/site-packages/hicmatrix/lib/matrixFileHandler.py:52\u001b[0m, in \u001b[0;36mMatrixFileHandler.load\u001b[0;34m(self)\u001b[0m\n\u001b[1;32m     50\u001b[0m \u001b[38;5;28;01mdef\u001b[39;00m \u001b[38;5;21mload\u001b[39m(\u001b[38;5;28mself\u001b[39m):\n\u001b[0;32m---> 52\u001b[0m     \u001b[38;5;28;01mreturn\u001b[39;00m \u001b[38;5;28mself\u001b[39m\u001b[38;5;241m.\u001b[39mmatrixFile\u001b[38;5;241m.\u001b[39mload()\n",
      "File \u001b[0;32m~/anaconda3/envs/hiexplorer_env/lib/python3.11/site-packages/hicmatrix/lib/h5.py:29\u001b[0m, in \u001b[0;36mH5.load\u001b[0;34m(self)\u001b[0m\n\u001b[1;32m     22\u001b[0m \u001b[38;5;250m\u001b[39m\u001b[38;5;124;03m\"\"\"\u001b[39;00m\n\u001b[1;32m     23\u001b[0m \u001b[38;5;124;03mLoads a matrix stored in h5 format\u001b[39;00m\n\u001b[1;32m     24\u001b[0m \u001b[38;5;124;03m:param matrix_filename:\u001b[39;00m\n\u001b[1;32m     25\u001b[0m \u001b[38;5;124;03m:return: matrix, cut_intervals, nan_bins, distance_counts, correction_factors\u001b[39;00m\n\u001b[1;32m     26\u001b[0m \u001b[38;5;124;03m\"\"\"\u001b[39;00m\n\u001b[1;32m     27\u001b[0m log\u001b[38;5;241m.\u001b[39mdebug(\u001b[38;5;124m'\u001b[39m\u001b[38;5;124mLoad in h5 format\u001b[39m\u001b[38;5;124m'\u001b[39m)\n\u001b[0;32m---> 29\u001b[0m \u001b[38;5;28;01mwith\u001b[39;00m tables\u001b[38;5;241m.\u001b[39mopen_file(\u001b[38;5;28mself\u001b[39m\u001b[38;5;241m.\u001b[39mmatrixFileName, \u001b[38;5;124m'\u001b[39m\u001b[38;5;124mr\u001b[39m\u001b[38;5;124m'\u001b[39m) \u001b[38;5;28;01mas\u001b[39;00m f:\n\u001b[1;32m     30\u001b[0m     parts \u001b[38;5;241m=\u001b[39m {}\n\u001b[1;32m     31\u001b[0m     \u001b[38;5;28;01mtry\u001b[39;00m:\n",
      "File \u001b[0;32m~/anaconda3/envs/hiexplorer_env/lib/python3.11/site-packages/tables/file.py:294\u001b[0m, in \u001b[0;36mopen_file\u001b[0;34m(filename, mode, title, root_uep, filters, **kwargs)\u001b[0m\n\u001b[1;32m    289\u001b[0m             \u001b[38;5;28;01mraise\u001b[39;00m \u001b[38;5;167;01mValueError\u001b[39;00m(\n\u001b[1;32m    290\u001b[0m                 \u001b[38;5;124m\"\u001b[39m\u001b[38;5;124mThe file \u001b[39m\u001b[38;5;124m'\u001b[39m\u001b[38;5;132;01m%s\u001b[39;00m\u001b[38;5;124m'\u001b[39m\u001b[38;5;124m is already opened.  Please \u001b[39m\u001b[38;5;124m\"\u001b[39m\n\u001b[1;32m    291\u001b[0m                 \u001b[38;5;124m\"\u001b[39m\u001b[38;5;124mclose it before reopening in write mode.\u001b[39m\u001b[38;5;124m\"\u001b[39m \u001b[38;5;241m%\u001b[39m filename)\n\u001b[1;32m    293\u001b[0m \u001b[38;5;66;03m# Finally, create the File instance, and return it\u001b[39;00m\n\u001b[0;32m--> 294\u001b[0m \u001b[38;5;28;01mreturn\u001b[39;00m File(filename, mode, title, root_uep, filters, \u001b[38;5;241m*\u001b[39m\u001b[38;5;241m*\u001b[39mkwargs)\n",
      "File \u001b[0;32m~/anaconda3/envs/hiexplorer_env/lib/python3.11/site-packages/tables/file.py:744\u001b[0m, in \u001b[0;36mFile.__init__\u001b[0;34m(self, filename, mode, title, root_uep, filters, **kwargs)\u001b[0m\n\u001b[1;32m    741\u001b[0m \u001b[38;5;28mself\u001b[39m\u001b[38;5;241m.\u001b[39mparams \u001b[38;5;241m=\u001b[39m params\n\u001b[1;32m    743\u001b[0m \u001b[38;5;66;03m# Now, it is time to initialize the File extension\u001b[39;00m\n\u001b[0;32m--> 744\u001b[0m \u001b[38;5;28mself\u001b[39m\u001b[38;5;241m.\u001b[39m_g_new(filename, mode, \u001b[38;5;241m*\u001b[39m\u001b[38;5;241m*\u001b[39mparams)\n\u001b[1;32m    746\u001b[0m \u001b[38;5;66;03m# Check filters and set PyTables format version for new files.\u001b[39;00m\n\u001b[1;32m    747\u001b[0m new \u001b[38;5;241m=\u001b[39m \u001b[38;5;28mself\u001b[39m\u001b[38;5;241m.\u001b[39m_v_new\n",
      "File \u001b[0;32m~/anaconda3/envs/hiexplorer_env/lib/python3.11/site-packages/tables/hdf5extension.pyx:394\u001b[0m, in \u001b[0;36mtables.hdf5extension.File._g_new\u001b[0;34m()\u001b[0m\n",
      "File \u001b[0;32m~/anaconda3/envs/hiexplorer_env/lib/python3.11/site-packages/tables/utils.py:146\u001b[0m, in \u001b[0;36mcheck_file_access\u001b[0;34m(filename, mode)\u001b[0m\n\u001b[1;32m    143\u001b[0m \u001b[38;5;28;01mif\u001b[39;00m mode \u001b[38;5;241m==\u001b[39m \u001b[38;5;124m'\u001b[39m\u001b[38;5;124mr\u001b[39m\u001b[38;5;124m'\u001b[39m:\n\u001b[1;32m    144\u001b[0m     \u001b[38;5;66;03m# The file should be readable.\u001b[39;00m\n\u001b[1;32m    145\u001b[0m     \u001b[38;5;28;01mif\u001b[39;00m \u001b[38;5;129;01mnot\u001b[39;00m os\u001b[38;5;241m.\u001b[39maccess(path, os\u001b[38;5;241m.\u001b[39mF_OK):\n\u001b[0;32m--> 146\u001b[0m         \u001b[38;5;28;01mraise\u001b[39;00m \u001b[38;5;167;01mFileNotFoundError\u001b[39;00m(\u001b[38;5;124mf\u001b[39m\u001b[38;5;124m\"\u001b[39m\u001b[38;5;124m``\u001b[39m\u001b[38;5;132;01m{\u001b[39;00mpath\u001b[38;5;132;01m}\u001b[39;00m\u001b[38;5;124m`` does not exist\u001b[39m\u001b[38;5;124m\"\u001b[39m)\n\u001b[1;32m    147\u001b[0m     \u001b[38;5;28;01mif\u001b[39;00m \u001b[38;5;129;01mnot\u001b[39;00m path\u001b[38;5;241m.\u001b[39mis_file():\n\u001b[1;32m    148\u001b[0m         \u001b[38;5;28;01mraise\u001b[39;00m \u001b[38;5;167;01mIsADirectoryError\u001b[39;00m(\u001b[38;5;124mf\u001b[39m\u001b[38;5;124m\"\u001b[39m\u001b[38;5;124m``\u001b[39m\u001b[38;5;132;01m{\u001b[39;00mpath\u001b[38;5;132;01m}\u001b[39;00m\u001b[38;5;124m`` is not a regular file\u001b[39m\u001b[38;5;124m\"\u001b[39m)\n",
      "\u001b[0;31mFileNotFoundError\u001b[0m: ``/Users/sarahchoi/Library/CloudStorage/OneDrive-UniversityofToronto/Code/untitled folder/demo/500kbp_raw_human_trans_aggregate.h5`` does not exist"
     ]
    }
   ],
   "source": [
    "file_path = \"500kbp_raw_human_trans_aggregate.h5\"\n",
    "genes = set(pd.read_csv('autism_genes.txt', sep='\\t', header=None)[0])\n",
    "df = cmp.get_gene_contacts_data(file_path, genes)\n",
    "exp_genes = set(pd.read_csv('autism_genes.txt', sep='\\t', header=None)[0])\n",
    "control_genes = set(pd.read_csv('autism_genes.txt', sep='\\t', header=None)[0][100:300])\n",
    "cmp.stat_significance(file_path, exp_genes, control_genes)\n",
    "cmp.display_diagram(file_path, exp_genes, control_genes)"
   ]
  },
  {
   "cell_type": "code",
   "execution_count": null,
   "id": "9b05f19e-a0e9-489d-843c-e098eea90d45",
   "metadata": {},
   "outputs": [],
   "source": []
  },
  {
   "cell_type": "code",
   "execution_count": null,
   "id": "100c4275-d071-4bd7-be82-fa22205e4119",
   "metadata": {},
   "outputs": [],
   "source": []
  }
 ],
 "metadata": {
  "kernelspec": {
   "display_name": "Python 3 (ipykernel)",
   "language": "python",
   "name": "python3"
  },
  "language_info": {
   "codemirror_mode": {
    "name": "ipython",
    "version": 3
   },
   "file_extension": ".py",
   "mimetype": "text/x-python",
   "name": "python",
   "nbconvert_exporter": "python",
   "pygments_lexer": "ipython3",
   "version": "3.11.7"
  }
 },
 "nbformat": 4,
 "nbformat_minor": 5
}
